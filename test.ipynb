{
 "cells": [
  {
   "cell_type": "code",
   "execution_count": 69,
   "id": "1d0143c6",
   "metadata": {},
   "outputs": [],
   "source": [
    "import pandas as pd\n",
    "from sklearn.model_selection import train_test_split\n",
    "from sklearn.ensemble import RandomForestClassifier, RandomForestRegressor\n",
    "from sklearn.preprocessing import StandardScaler\n",
    "from sklearn.metrics import accuracy_score, mean_absolute_error\n",
    "import joblib"
   ]
  },
  {
   "cell_type": "code",
   "execution_count": 70,
   "id": "c0d7b7c1",
   "metadata": {},
   "outputs": [],
   "source": [
    "df = pd.read_csv(\"synthetic_transformer_dataset.csv\")\n"
   ]
  },
  {
   "cell_type": "code",
   "execution_count": 71,
   "id": "fdb5b507",
   "metadata": {},
   "outputs": [],
   "source": [
    "features = ['Hydrogen', 'Methane', 'Acethylene', 'Ethylene']\n",
    "X = df[features]\n",
    "y_class = df['Status']\n",
    "y_reg = df['Life Expectancy']"
   ]
  },
  {
   "cell_type": "code",
   "execution_count": 72,
   "id": "f1236c40",
   "metadata": {},
   "outputs": [],
   "source": [
    "X_train, X_test, y_class_train, y_class_test = train_test_split(X, y_class, test_size=0.2, random_state=42)\n",
    "_, _, y_reg_train, y_reg_test = train_test_split(X, y_reg, test_size=0.2, random_state=42)\n"
   ]
  },
  {
   "cell_type": "code",
   "execution_count": 73,
   "id": "5d6764fe",
   "metadata": {},
   "outputs": [],
   "source": [
    "scaler = StandardScaler()\n",
    "X_train_scaled = scaler.fit_transform(X_train)\n",
    "X_test_scaled = scaler.transform(X_test)"
   ]
  },
  {
   "cell_type": "code",
   "execution_count": 74,
   "id": "5ad1a395",
   "metadata": {},
   "outputs": [
    {
     "name": "stdout",
     "output_type": "stream",
     "text": [
      "[Classification] Accuracy = 1.00\n"
     ]
    }
   ],
   "source": [
    "clf = RandomForestClassifier(class_weight='balanced', random_state=42)\n",
    "clf.fit(X_train_scaled, y_class_train)\n",
    "y_class_pred = clf.predict(X_test_scaled)\n",
    "acc = accuracy_score(y_class_test, y_class_pred)\n",
    "print(f\"[Classification] Accuracy = {acc:.2f}\")"
   ]
  },
  {
   "cell_type": "code",
   "execution_count": 75,
   "id": "7ee026a3",
   "metadata": {},
   "outputs": [
    {
     "name": "stdout",
     "output_type": "stream",
     "text": [
      "[Regression] MAE = 10.20 years\n"
     ]
    }
   ],
   "source": [
    "reg = RandomForestRegressor(random_state=42)\n",
    "reg.fit(X_train_scaled, y_reg_train)\n",
    "y_reg_pred = reg.predict(X_test_scaled)\n",
    "mae = mean_absolute_error(y_reg_test, y_reg_pred)\n",
    "print(f\"[Regression] MAE = {mae:.2f} years\")"
   ]
  },
  {
   "cell_type": "code",
   "execution_count": 76,
   "id": "f9ccc570",
   "metadata": {},
   "outputs": [
    {
     "name": "stdout",
     "output_type": "stream",
     "text": [
      "✅ Models saved successfully.\n"
     ]
    }
   ],
   "source": [
    "joblib.dump(clf, \"transformer_status_model.pkl\")\n",
    "joblib.dump(reg, \"transformer_life_model.pkl\")\n",
    "joblib.dump(scaler, \"scaler.pkl\")\n",
    "print(\"✅ Models saved successfully.\")\n"
   ]
  },
  {
   "cell_type": "code",
   "execution_count": null,
   "id": "d3b5dac3",
   "metadata": {},
   "outputs": [],
   "source": []
  },
  {
   "cell_type": "code",
   "execution_count": null,
   "id": "60a957cf",
   "metadata": {},
   "outputs": [],
   "source": []
  }
 ],
 "metadata": {
  "kernelspec": {
   "display_name": "Python 3",
   "language": "python",
   "name": "python3"
  },
  "language_info": {
   "codemirror_mode": {
    "name": "ipython",
    "version": 3
   },
   "file_extension": ".py",
   "mimetype": "text/x-python",
   "name": "python",
   "nbconvert_exporter": "python",
   "pygments_lexer": "ipython3",
   "version": "3.13.1"
  }
 },
 "nbformat": 4,
 "nbformat_minor": 5
}
